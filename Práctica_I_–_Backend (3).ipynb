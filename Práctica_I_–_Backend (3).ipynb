{
  "nbformat": 4,
  "nbformat_minor": 0,
  "metadata": {
    "colab": {
      "provenance": []
    },
    "kernelspec": {
      "name": "python3",
      "display_name": "Python 3"
    },
    "language_info": {
      "name": "python"
    }
  },
  "cells": [
    {
      "cell_type": "markdown",
      "source": [
        ">Todo los modificaciones se realizaron con codigo\n",
        "\n",
        "##Jesus-Araujo 2022-1894"
      ],
      "metadata": {
        "id": "DMQEDg9sQ_cG"
      }
    },
    {
      "cell_type": "code",
      "source": [
        "#Importa la libreria que voy a utuilizar\n",
        "import pandas as pd\n"
      ],
      "metadata": {
        "id": "teg9VIb81jsw"
      },
      "execution_count": null,
      "outputs": []
    },
    {
      "cell_type": "code",
      "source": [
        "#Aqui convertir el archivo en un DF para poner analizarlo\n",
        "#ademas escojo un formado de texto didefente el utf-8 cambiaba alguans letras\n",
        "#Ademas espefificao que el encabesado esta en la fila 4\n",
        "\n",
        "df = pd.read_csv(\"Ventas_Pedidos.csv\", delimiter=\",\", encoding=\"latin1\", header=4)\n"
      ],
      "metadata": {
        "id": "CvBQJgu91q0_"
      },
      "execution_count": null,
      "outputs": []
    },
    {
      "cell_type": "code",
      "source": [
        "#impromo los datos, mostrandome\n",
        "print(df.head(-220))\n"
      ],
      "metadata": {
        "colab": {
          "base_uri": "https://localhost:8080/"
        },
        "id": "HlpLMbbI4Miv",
        "outputId": "30b1fc37-6663-4611-f6da-6f12733e95b0"
      },
      "execution_count": null,
      "outputs": [
        {
          "output_type": "stream",
          "name": "stdout",
          "text": [
            "                          Unnamed: 0 Unnamed: 1              Unnamed: 2  \\\n",
            "0      Número de Pedido - Tip Compra        SKU  Categoría de Descuento   \n",
            "1                                NaN        NaN                     NaN   \n",
            "2                                NaN        NaN                     NaN   \n",
            "3                                NaN        NaN                     NaN   \n",
            "4                                NaN        NaN                     NaN   \n",
            "...                              ...        ...                     ...   \n",
            "24713                 98069578Normal      L05-4                     Non   \n",
            "24714                 98069570Normal      C13-6                     Non   \n",
            "24715                 98069565Normal     CB01-6                     Non   \n",
            "24716                 98069566Normal     CB01-7                     Non   \n",
            "24717             98069569Devolución     CB01-4                     Non   \n",
            "\n",
            "               Unnamed: 3 Unnamed: 4          Unnamed: 5      Unnamed: 6  \\\n",
            "0                Ingresos   Unidades  Costo del Producto  Costo de Envio   \n",
            "1                     NaN        NaN                 NaN             NaN   \n",
            "2                     NaN        NaN                 NaN             NaN   \n",
            "3                     NaN        NaN                 NaN             NaN   \n",
            "4                     NaN        NaN                 NaN             NaN   \n",
            "...                   ...        ...                 ...             ...   \n",
            "24713  121.64999999999999          3                5.55            4.55   \n",
            "24714                80.9          2                6.88            6.88   \n",
            "24715  222.02999999999997          1                7.61            3.61   \n",
            "24716  222.02999999999997          1                9.68            5.68   \n",
            "24717  666.08999999999992          3                   8               5   \n",
            "\n",
            "          Unnamed: 7      Unnamed: 8        Unnamed: 9 Unnamed: 10  \\\n",
            "0      Costo Empaque  Fecha de Envio  Fecha de Llegada        País   \n",
            "1                NaN             NaN               NaN         NaN   \n",
            "2                NaN             NaN               NaN         NaN   \n",
            "3                NaN             NaN               NaN         NaN   \n",
            "4                NaN             NaN               NaN         NaN   \n",
            "...              ...             ...               ...         ...   \n",
            "24713              1           42323             42334   VENezuela   \n",
            "24714              3           42324             43099     ECUador   \n",
            "24715              2           42324             42344     URUguay   \n",
            "24716              1           42324             42342      BRAsil   \n",
            "24717              3           42324             42996      BRAsil   \n",
            "\n",
            "      Unnamed: 11  Unnamed: 12 Unnamed: 13 Unnamed: 14  \n",
            "0          Ciudad  Codigo País         NaN         NaN  \n",
            "1             NaN          NaN         NaN         NaN  \n",
            "2             NaN          NaN         NaN         NaN  \n",
            "3             NaN          NaN         NaN         NaN  \n",
            "4             NaN          NaN         NaN         NaN  \n",
            "...           ...          ...         ...         ...  \n",
            "24713     Caracas           VE         NaN         NaN  \n",
            "24714       Quito           EC         NaN         NaN  \n",
            "24715  Montevideo           UR         NaN         NaN  \n",
            "24716         Rio           BR         NaN         NaN  \n",
            "24717         Rio           BR         NaN         NaN  \n",
            "\n",
            "[24718 rows x 15 columns]\n"
          ]
        }
      ]
    },
    {
      "cell_type": "code",
      "source": [],
      "metadata": {
        "id": "HU7NDsK67Acr"
      },
      "execution_count": null,
      "outputs": []
    },
    {
      "cell_type": "code",
      "source": [
        "# Calcular la cantidad de valores nulos por columna\n",
        "\n",
        "print(df.isnull().sum())\n"
      ],
      "metadata": {
        "colab": {
          "base_uri": "https://localhost:8080/"
        },
        "id": "t4bL1FSi5nuN",
        "outputId": "52fbb5ee-756c-420b-b0d9-ff3091da7f29"
      },
      "execution_count": null,
      "outputs": [
        {
          "output_type": "stream",
          "name": "stdout",
          "text": [
            "0\n",
            "Número de Pedido - Tip Compra    31\n",
            "SKU                              37\n",
            "Categoría de Descuento           41\n",
            "Ingresos                         39\n",
            "Unidades                         41\n",
            "Costo del Producto               41\n",
            "Costo de Envio                   41\n",
            "Costo Empaque                    41\n",
            "Fecha de Envio                   41\n",
            "Fecha de Llegada                 41\n",
            "País                             41\n",
            "Ciudad                           41\n",
            "Codigo País                      41\n",
            "dtype: int64\n"
          ]
        }
      ]
    },
    {
      "cell_type": "code",
      "source": [
        "#Imprime la cantida de regristro que hay\n",
        "print(df.shape)\n"
      ],
      "metadata": {
        "colab": {
          "base_uri": "https://localhost:8080/"
        },
        "id": "polDPw1v6GbM",
        "outputId": "9abd5af9-187b-4e8d-cc4f-340e2c8bbc8a"
      },
      "execution_count": null,
      "outputs": [
        {
          "output_type": "stream",
          "name": "stdout",
          "text": [
            "(24937, 13)\n"
          ]
        }
      ]
    },
    {
      "cell_type": "code",
      "source": [
        "print(df.notnull().sum())"
      ],
      "metadata": {
        "colab": {
          "base_uri": "https://localhost:8080/"
        },
        "id": "GLyEJQNw6MUM",
        "outputId": "c8a9e4a7-ceb8-409b-8d66-a09745135957"
      },
      "execution_count": null,
      "outputs": [
        {
          "output_type": "stream",
          "name": "stdout",
          "text": [
            "0\n",
            "Número de Pedido - Tip Compra    24906\n",
            "SKU                              24900\n",
            "Categoría de Descuento           24896\n",
            "Ingresos                         24898\n",
            "Unidades                         24896\n",
            "Costo del Producto               24896\n",
            "Costo de Envio                   24896\n",
            "Costo Empaque                    24896\n",
            "Fecha de Envio                   24896\n",
            "Fecha de Llegada                 24896\n",
            "País                             24896\n",
            "Ciudad                           24896\n",
            "Codigo País                      24896\n",
            "dtype: int64\n"
          ]
        }
      ]
    },
    {
      "cell_type": "code",
      "source": [
        "# Tomar la primera fila de datos como nombres de columna y reemplazar los nombres de columna existentes\n",
        "df.columns = df.iloc[0]\n",
        "\n",
        "# Eliminar la primera fila, que ahora es el antiguo encabezado\n",
        "df = df[1:]\n",
        "\n",
        "# El DataFrame ahora tiene la primera fila como nombres de columna\n",
        "print(df)"
      ],
      "metadata": {
        "id": "0KgbCoDE-UTv",
        "colab": {
          "base_uri": "https://localhost:8080/"
        },
        "outputId": "e349beb0-95ea-4c55-c83b-88ce4b2ada3c"
      },
      "execution_count": null,
      "outputs": [
        {
          "output_type": "stream",
          "name": "stdout",
          "text": [
            "0     Número de Pedido - Tip Compra     SKU Categoría de Descuento Ingresos  \\\n",
            "1                               NaN     NaN                    NaN      NaN   \n",
            "2                               NaN     NaN                    NaN      NaN   \n",
            "3                               NaN     NaN                    NaN      NaN   \n",
            "4                               NaN     NaN                    NaN      NaN   \n",
            "5                               NaN     NaN                    NaN      NaN   \n",
            "...                             ...     ...                    ...      ...   \n",
            "24933                           NaN     NaN                    NaN      NaN   \n",
            "24934                         Enero    Mayo                    NaN      NaN   \n",
            "24935                       Febrero   Junio                    NaN      NaN   \n",
            "24936                         Marzo   Julio                    NaN      NaN   \n",
            "24937                         Abril  Agosto                    NaN      NaN   \n",
            "\n",
            "0     Unidades Costo del Producto Costo de Envio Costo Empaque Fecha de Envio  \\\n",
            "1          NaN                NaN            NaN           NaN            NaN   \n",
            "2          NaN                NaN            NaN           NaN            NaN   \n",
            "3          NaN                NaN            NaN           NaN            NaN   \n",
            "4          NaN                NaN            NaN           NaN            NaN   \n",
            "5          NaN                NaN            NaN           NaN            NaN   \n",
            "...        ...                ...            ...           ...            ...   \n",
            "24933      NaN                NaN            NaN           NaN            NaN   \n",
            "24934      NaN                NaN            NaN           NaN            NaN   \n",
            "24935      NaN                NaN            NaN           NaN            NaN   \n",
            "24936      NaN                NaN            NaN           NaN            NaN   \n",
            "24937      NaN                NaN            NaN           NaN            NaN   \n",
            "\n",
            "0     Fecha de Llegada País Ciudad Codigo País  \n",
            "1                  NaN  NaN    NaN         NaN  \n",
            "2                  NaN  NaN    NaN         NaN  \n",
            "3                  NaN  NaN    NaN         NaN  \n",
            "4                  NaN  NaN    NaN         NaN  \n",
            "5                  NaN  NaN    NaN         NaN  \n",
            "...                ...  ...    ...         ...  \n",
            "24933              NaN  NaN    NaN         NaN  \n",
            "24934              NaN  NaN    NaN         NaN  \n",
            "24935              NaN  NaN    NaN         NaN  \n",
            "24936              NaN  NaN    NaN         NaN  \n",
            "24937              NaN  NaN    NaN         NaN  \n",
            "\n",
            "[24937 rows x 13 columns]\n"
          ]
        }
      ]
    },
    {
      "cell_type": "code",
      "source": [
        "#Borro los datos bulos pero con un df diferentes para ver los cambio antes df_actualizado\n",
        "df_actualizado = df.dropna(axis=1)\n",
        "\n"
      ],
      "metadata": {
        "id": "qGKM86Kb7CLL"
      },
      "execution_count": null,
      "outputs": []
    },
    {
      "cell_type": "code",
      "source": [
        "# Eliminar las dos últimas columnas que era dasto nulos\n",
        "df = df.iloc[:, :-2]"
      ],
      "metadata": {
        "id": "u-tkkyDa7cMz"
      },
      "execution_count": null,
      "outputs": []
    },
    {
      "cell_type": "markdown",
      "source": [],
      "metadata": {
        "id": "cV6LK6H8Q9v_"
      }
    },
    {
      "cell_type": "code",
      "source": [
        "#Con este codigo berifica las cantidad de datos nulos que hay\n",
        "print(df.isnull().sum())\n",
        "\n"
      ],
      "metadata": {
        "colab": {
          "base_uri": "https://localhost:8080/"
        },
        "id": "ctaz9N_b8X0D",
        "outputId": "77816101-345d-4257-dc03-6359cb782b4c"
      },
      "execution_count": null,
      "outputs": [
        {
          "output_type": "stream",
          "name": "stdout",
          "text": [
            "0\n",
            "Número de Pedido - Tip Compra    31\n",
            "SKU                              37\n",
            "Categoría de Descuento           41\n",
            "Ingresos                         39\n",
            "Unidades                         41\n",
            "Costo del Producto               41\n",
            "Costo de Envio                   41\n",
            "Costo Empaque                    41\n",
            "Fecha de Envio                   41\n",
            "Fecha de Llegada                 41\n",
            "País                             41\n",
            "Ciudad                           41\n",
            "Codigo País                      41\n",
            "dtype: int64\n"
          ]
        }
      ]
    },
    {
      "cell_type": "code",
      "source": [],
      "metadata": {
        "id": "hoqOLR6FH9jj"
      },
      "execution_count": null,
      "outputs": []
    },
    {
      "cell_type": "code",
      "source": [
        "#Aqui se eliminar todos los final nulas\n",
        "df_sin_nulos = df.dropna()\n"
      ],
      "metadata": {
        "id": "ujTZhCqi-VaA"
      },
      "execution_count": null,
      "outputs": []
    },
    {
      "cell_type": "code",
      "source": [
        "#En esta parate eliminos las filas que contega la parabra #DIV/0!\n",
        "df = df[~df.eq('#DIV/0!').any(axis=1)]"
      ],
      "metadata": {
        "id": "O9jRZFdLNAvF"
      },
      "execution_count": null,
      "outputs": []
    },
    {
      "cell_type": "code",
      "source": [
        "df = df[~df.eq('xxxx').any(axis=1)]"
      ],
      "metadata": {
        "id": "W9p6_z3NMnyq"
      },
      "execution_count": null,
      "outputs": []
    },
    {
      "cell_type": "code",
      "source": [
        "df = df[~df.eq('****').any(axis=1)]"
      ],
      "metadata": {
        "id": "0u2y9NTGMfH8"
      },
      "execution_count": null,
      "outputs": []
    },
    {
      "cell_type": "code",
      "source": [
        "print(df_sin_nulos)"
      ],
      "metadata": {
        "colab": {
          "base_uri": "https://localhost:8080/"
        },
        "id": "fAmEPCxkF2RI",
        "outputId": "4a93edc0-5577-4084-c786-513c88fcf323"
      },
      "execution_count": null,
      "outputs": [
        {
          "output_type": "stream",
          "name": "stdout",
          "text": [
            "0     Número de Pedido - Tip Compra     SKU Categoría de Descuento  \\\n",
            "22                   98094261Normal  CC01-2                    Non   \n",
            "23                   98094260Normal   L01-5                    Non   \n",
            "24                   98094258Normal  CB01-2                    Non   \n",
            "25               98094259Devolución  CB01-2                    Non   \n",
            "26                   98094257Normal  CC02-1                    Non   \n",
            "...                             ...     ...                    ...   \n",
            "24909                98069375Normal  CC01-3                    Non   \n",
            "24910                98069373Normal   L02-6           Cyber Monday   \n",
            "24911                98069378Normal   L02-7                    Non   \n",
            "24912            98069377Devolución   L07-2                    Non   \n",
            "24913                98069372Normal  CC01-3                    Non   \n",
            "\n",
            "0                Ingresos Unidades Costo del Producto Costo de Envio  \\\n",
            "22                 105.06        2               8.55           4.55   \n",
            "23                   61.5        2               8.25           3.25   \n",
            "24     222.02999999999997        1               7.99           4.99   \n",
            "25     666.08999999999992        3               5.61           5.61   \n",
            "26                  80.16        3               9.99           3.99   \n",
            "...                   ...      ...                ...            ...   \n",
            "24909              105.06        2                  6              5   \n",
            "24910  96.480000000000018        3               8.55           3.55   \n",
            "24911  120.60000000000001        3               8.55           5.55   \n",
            "24912               37.89        1                5.2            3.2   \n",
            "24913              105.06        2                  8              6   \n",
            "\n",
            "0     Costo Empaque Fecha de Envio Fecha de Llegada      País        Ciudad  \\\n",
            "22                2          36509            36529  PARaguay      Asunción   \n",
            "23                2          36510            36529      PERú          Lima   \n",
            "24                3          36511            36528  PARaguay      Asunción   \n",
            "25                2          36511            36529  PARaguay      Asunción   \n",
            "26                3          36512            36528   URUguay    Montevideo   \n",
            "...             ...            ...              ...       ...           ...   \n",
            "24909             1          42354            42373  PARaguay      Asunción   \n",
            "24910             1          42354            42373   ECUador         Quito   \n",
            "24911             2          42354            43004   URUguay    Montevideo   \n",
            "24912             3          42354            42364    BRAsil           Rio   \n",
            "24913             1          42355            43003     CHIle  Viña del Mar   \n",
            "\n",
            "0     Codigo País  \n",
            "22             PA  \n",
            "23             PE  \n",
            "24             PA  \n",
            "25             PA  \n",
            "26             UR  \n",
            "...           ...  \n",
            "24909          PA  \n",
            "24910          EC  \n",
            "24911          UR  \n",
            "24912          BR  \n",
            "24913          CH  \n",
            "\n",
            "[24890 rows x 13 columns]\n"
          ]
        }
      ]
    },
    {
      "cell_type": "code",
      "source": [
        "\n",
        "df_sin_nulos.info()"
      ],
      "metadata": {
        "colab": {
          "base_uri": "https://localhost:8080/"
        },
        "id": "mhATlEivHAIa",
        "outputId": "00c1ee6f-7d53-468d-9a29-ae7724b4e355"
      },
      "execution_count": null,
      "outputs": [
        {
          "output_type": "stream",
          "name": "stdout",
          "text": [
            "<class 'pandas.core.frame.DataFrame'>\n",
            "Int64Index: 24895 entries, 15 to 24915\n",
            "Data columns (total 13 columns):\n",
            " #   Column                         Non-Null Count  Dtype \n",
            "---  ------                         --------------  ----- \n",
            " 0   Número de Pedido - Tip Compra  24895 non-null  object\n",
            " 1   SKU                            24895 non-null  object\n",
            " 2   Categoría de Descuento         24895 non-null  object\n",
            " 3   Ingresos                       24895 non-null  object\n",
            " 4   Unidades                       24895 non-null  object\n",
            " 5   Costo del Producto             24895 non-null  object\n",
            " 6   Costo de Envio                 24895 non-null  object\n",
            " 7   Costo Empaque                  24895 non-null  object\n",
            " 8   Fecha de Envio                 24895 non-null  object\n",
            " 9   Fecha de Llegada               24895 non-null  object\n",
            " 10  País                           24895 non-null  object\n",
            " 11  Ciudad                         24895 non-null  object\n",
            " 12  Codigo País                    24895 non-null  object\n",
            "dtypes: object(13)\n",
            "memory usage: 2.7+ MB\n"
          ]
        }
      ]
    },
    {
      "cell_type": "code",
      "source": [
        "#Este codigo es para verificar que  no hay nulos\n",
        "print(df_sin_nulos.isnull().sum())\n"
      ],
      "metadata": {
        "colab": {
          "base_uri": "https://localhost:8080/"
        },
        "id": "53pY4WCaJEIX",
        "outputId": "00af531c-b33f-4878-91fb-e3e2b0614fb0"
      },
      "execution_count": null,
      "outputs": [
        {
          "output_type": "stream",
          "name": "stdout",
          "text": [
            "0\n",
            "Número de Pedido - Tip Compra    0\n",
            "SKU                              0\n",
            "Categoría de Descuento           0\n",
            "Ingresos                         0\n",
            "Unidades                         0\n",
            "Costo del Producto               0\n",
            "Costo de Envio                   0\n",
            "Costo Empaque                    0\n",
            "Fecha de Envio                   0\n",
            "Fecha de Llegada                 0\n",
            "País                             0\n",
            "Ciudad                           0\n",
            "Codigo País                      0\n",
            "dtype: int64\n"
          ]
        }
      ]
    },
    {
      "cell_type": "code",
      "source": [
        "df =df_sin_nulos"
      ],
      "metadata": {
        "id": "bByqfAlKJUrF"
      },
      "execution_count": null,
      "outputs": []
    },
    {
      "cell_type": "code",
      "source": [
        "# imprimo df para ver que los datos esta correstos\n",
        "print(df)"
      ],
      "metadata": {
        "colab": {
          "base_uri": "https://localhost:8080/"
        },
        "id": "HEzSwiH9MlVL",
        "outputId": "e7390c3f-76cc-4f2f-c353-054e1472f6f7"
      },
      "execution_count": null,
      "outputs": [
        {
          "output_type": "stream",
          "name": "stdout",
          "text": [
            "0     Número de Pedido - Tip Compra     SKU Categoría de Descuento  \\\n",
            "22                   98094261Normal  CC01-2                    Non   \n",
            "23                   98094260Normal   L01-5                    Non   \n",
            "24                   98094258Normal  CB01-2                    Non   \n",
            "25               98094259Devolución  CB01-2                    Non   \n",
            "26                   98094257Normal  CC02-1                    Non   \n",
            "...                             ...     ...                    ...   \n",
            "24909                98069375Normal  CC01-3                    Non   \n",
            "24910                98069373Normal   L02-6           Cyber Monday   \n",
            "24911                98069378Normal   L02-7                    Non   \n",
            "24912            98069377Devolución   L07-2                    Non   \n",
            "24913                98069372Normal  CC01-3                    Non   \n",
            "\n",
            "0                Ingresos Unidades Costo del Producto Costo de Envio  \\\n",
            "22                 105.06        2               8.55           4.55   \n",
            "23                   61.5        2               8.25           3.25   \n",
            "24     222.02999999999997        1               7.99           4.99   \n",
            "25     666.08999999999992        3               5.61           5.61   \n",
            "26                  80.16        3               9.99           3.99   \n",
            "...                   ...      ...                ...            ...   \n",
            "24909              105.06        2                  6              5   \n",
            "24910  96.480000000000018        3               8.55           3.55   \n",
            "24911  120.60000000000001        3               8.55           5.55   \n",
            "24912               37.89        1                5.2            3.2   \n",
            "24913              105.06        2                  8              6   \n",
            "\n",
            "0     Costo Empaque Fecha de Envio Fecha de Llegada      País        Ciudad  \\\n",
            "22                2          36509            36529  PARaguay      Asunción   \n",
            "23                2          36510            36529      PERú          Lima   \n",
            "24                3          36511            36528  PARaguay      Asunción   \n",
            "25                2          36511            36529  PARaguay      Asunción   \n",
            "26                3          36512            36528   URUguay    Montevideo   \n",
            "...             ...            ...              ...       ...           ...   \n",
            "24909             1          42354            42373  PARaguay      Asunción   \n",
            "24910             1          42354            42373   ECUador         Quito   \n",
            "24911             2          42354            43004   URUguay    Montevideo   \n",
            "24912             3          42354            42364    BRAsil           Rio   \n",
            "24913             1          42355            43003     CHIle  Viña del Mar   \n",
            "\n",
            "0     Codigo País  \n",
            "22             PA  \n",
            "23             PE  \n",
            "24             PA  \n",
            "25             PA  \n",
            "26             UR  \n",
            "...           ...  \n",
            "24909          PA  \n",
            "24910          EC  \n",
            "24911          UR  \n",
            "24912          BR  \n",
            "24913          CH  \n",
            "\n",
            "[24890 rows x 13 columns]\n"
          ]
        }
      ]
    },
    {
      "cell_type": "code",
      "source": [
        "df.describe()"
      ],
      "metadata": {
        "colab": {
          "base_uri": "https://localhost:8080/",
          "height": 247
        },
        "id": "vysh-dSRRVH8",
        "outputId": "6b517c76-7a41-404a-ee83-326a787510d3"
      },
      "execution_count": null,
      "outputs": [
        {
          "output_type": "execute_result",
          "data": {
            "text/plain": [
              "0      Número de Pedido - Tip Compra     SKU Categoría de Descuento  \\\n",
              "count                          24890   24890                  24890   \n",
              "unique                         24890     147                      5   \n",
              "top                   98094261Normal  CB01-1                    Non   \n",
              "freq                               1     716                  13347   \n",
              "\n",
              "0                 Ingresos Unidades Costo del Producto Costo de Envio  \\\n",
              "count                24890    24890              24890          24890   \n",
              "unique                 314        3                116             93   \n",
              "top     222.02999999999997        1                  9              3   \n",
              "freq                   862     8488                537            643   \n",
              "\n",
              "0      Costo Empaque Fecha de Envio Fecha de Llegada       País   Ciudad  \\\n",
              "count          24890          24890            24890      24890    24890   \n",
              "unique             3           5763             6609          9        9   \n",
              "top                3          42251            40754  ARGentina  Rosario   \n",
              "freq            8331             13               13       2848     2848   \n",
              "\n",
              "0      Codigo País  \n",
              "count        24890  \n",
              "unique           9  \n",
              "top             AR  \n",
              "freq          2848  "
            ],
            "text/html": [
              "\n",
              "  <div id=\"df-8cb76977-bf21-4c21-b177-8a8a7fb7d6ec\" class=\"colab-df-container\">\n",
              "    <div>\n",
              "<style scoped>\n",
              "    .dataframe tbody tr th:only-of-type {\n",
              "        vertical-align: middle;\n",
              "    }\n",
              "\n",
              "    .dataframe tbody tr th {\n",
              "        vertical-align: top;\n",
              "    }\n",
              "\n",
              "    .dataframe thead th {\n",
              "        text-align: right;\n",
              "    }\n",
              "</style>\n",
              "<table border=\"1\" class=\"dataframe\">\n",
              "  <thead>\n",
              "    <tr style=\"text-align: right;\">\n",
              "      <th></th>\n",
              "      <th>Número de Pedido - Tip Compra</th>\n",
              "      <th>SKU</th>\n",
              "      <th>Categoría de Descuento</th>\n",
              "      <th>Ingresos</th>\n",
              "      <th>Unidades</th>\n",
              "      <th>Costo del Producto</th>\n",
              "      <th>Costo de Envio</th>\n",
              "      <th>Costo Empaque</th>\n",
              "      <th>Fecha de Envio</th>\n",
              "      <th>Fecha de Llegada</th>\n",
              "      <th>País</th>\n",
              "      <th>Ciudad</th>\n",
              "      <th>Codigo País</th>\n",
              "    </tr>\n",
              "  </thead>\n",
              "  <tbody>\n",
              "    <tr>\n",
              "      <th>count</th>\n",
              "      <td>24890</td>\n",
              "      <td>24890</td>\n",
              "      <td>24890</td>\n",
              "      <td>24890</td>\n",
              "      <td>24890</td>\n",
              "      <td>24890</td>\n",
              "      <td>24890</td>\n",
              "      <td>24890</td>\n",
              "      <td>24890</td>\n",
              "      <td>24890</td>\n",
              "      <td>24890</td>\n",
              "      <td>24890</td>\n",
              "      <td>24890</td>\n",
              "    </tr>\n",
              "    <tr>\n",
              "      <th>unique</th>\n",
              "      <td>24890</td>\n",
              "      <td>147</td>\n",
              "      <td>5</td>\n",
              "      <td>314</td>\n",
              "      <td>3</td>\n",
              "      <td>116</td>\n",
              "      <td>93</td>\n",
              "      <td>3</td>\n",
              "      <td>5763</td>\n",
              "      <td>6609</td>\n",
              "      <td>9</td>\n",
              "      <td>9</td>\n",
              "      <td>9</td>\n",
              "    </tr>\n",
              "    <tr>\n",
              "      <th>top</th>\n",
              "      <td>98094261Normal</td>\n",
              "      <td>CB01-1</td>\n",
              "      <td>Non</td>\n",
              "      <td>222.02999999999997</td>\n",
              "      <td>1</td>\n",
              "      <td>9</td>\n",
              "      <td>3</td>\n",
              "      <td>3</td>\n",
              "      <td>42251</td>\n",
              "      <td>40754</td>\n",
              "      <td>ARGentina</td>\n",
              "      <td>Rosario</td>\n",
              "      <td>AR</td>\n",
              "    </tr>\n",
              "    <tr>\n",
              "      <th>freq</th>\n",
              "      <td>1</td>\n",
              "      <td>716</td>\n",
              "      <td>13347</td>\n",
              "      <td>862</td>\n",
              "      <td>8488</td>\n",
              "      <td>537</td>\n",
              "      <td>643</td>\n",
              "      <td>8331</td>\n",
              "      <td>13</td>\n",
              "      <td>13</td>\n",
              "      <td>2848</td>\n",
              "      <td>2848</td>\n",
              "      <td>2848</td>\n",
              "    </tr>\n",
              "  </tbody>\n",
              "</table>\n",
              "</div>\n",
              "    <div class=\"colab-df-buttons\">\n",
              "\n",
              "  <div class=\"colab-df-container\">\n",
              "    <button class=\"colab-df-convert\" onclick=\"convertToInteractive('df-8cb76977-bf21-4c21-b177-8a8a7fb7d6ec')\"\n",
              "            title=\"Convert this dataframe to an interactive table.\"\n",
              "            style=\"display:none;\">\n",
              "\n",
              "  <svg xmlns=\"http://www.w3.org/2000/svg\" height=\"24px\" viewBox=\"0 -960 960 960\">\n",
              "    <path d=\"M120-120v-720h720v720H120Zm60-500h600v-160H180v160Zm220 220h160v-160H400v160Zm0 220h160v-160H400v160ZM180-400h160v-160H180v160Zm440 0h160v-160H620v160ZM180-180h160v-160H180v160Zm440 0h160v-160H620v160Z\"/>\n",
              "  </svg>\n",
              "    </button>\n",
              "\n",
              "  <style>\n",
              "    .colab-df-container {\n",
              "      display:flex;\n",
              "      gap: 12px;\n",
              "    }\n",
              "\n",
              "    .colab-df-convert {\n",
              "      background-color: #E8F0FE;\n",
              "      border: none;\n",
              "      border-radius: 50%;\n",
              "      cursor: pointer;\n",
              "      display: none;\n",
              "      fill: #1967D2;\n",
              "      height: 32px;\n",
              "      padding: 0 0 0 0;\n",
              "      width: 32px;\n",
              "    }\n",
              "\n",
              "    .colab-df-convert:hover {\n",
              "      background-color: #E2EBFA;\n",
              "      box-shadow: 0px 1px 2px rgba(60, 64, 67, 0.3), 0px 1px 3px 1px rgba(60, 64, 67, 0.15);\n",
              "      fill: #174EA6;\n",
              "    }\n",
              "\n",
              "    .colab-df-buttons div {\n",
              "      margin-bottom: 4px;\n",
              "    }\n",
              "\n",
              "    [theme=dark] .colab-df-convert {\n",
              "      background-color: #3B4455;\n",
              "      fill: #D2E3FC;\n",
              "    }\n",
              "\n",
              "    [theme=dark] .colab-df-convert:hover {\n",
              "      background-color: #434B5C;\n",
              "      box-shadow: 0px 1px 3px 1px rgba(0, 0, 0, 0.15);\n",
              "      filter: drop-shadow(0px 1px 2px rgba(0, 0, 0, 0.3));\n",
              "      fill: #FFFFFF;\n",
              "    }\n",
              "  </style>\n",
              "\n",
              "    <script>\n",
              "      const buttonEl =\n",
              "        document.querySelector('#df-8cb76977-bf21-4c21-b177-8a8a7fb7d6ec button.colab-df-convert');\n",
              "      buttonEl.style.display =\n",
              "        google.colab.kernel.accessAllowed ? 'block' : 'none';\n",
              "\n",
              "      async function convertToInteractive(key) {\n",
              "        const element = document.querySelector('#df-8cb76977-bf21-4c21-b177-8a8a7fb7d6ec');\n",
              "        const dataTable =\n",
              "          await google.colab.kernel.invokeFunction('convertToInteractive',\n",
              "                                                    [key], {});\n",
              "        if (!dataTable) return;\n",
              "\n",
              "        const docLinkHtml = 'Like what you see? Visit the ' +\n",
              "          '<a target=\"_blank\" href=https://colab.research.google.com/notebooks/data_table.ipynb>data table notebook</a>'\n",
              "          + ' to learn more about interactive tables.';\n",
              "        element.innerHTML = '';\n",
              "        dataTable['output_type'] = 'display_data';\n",
              "        await google.colab.output.renderOutput(dataTable, element);\n",
              "        const docLink = document.createElement('div');\n",
              "        docLink.innerHTML = docLinkHtml;\n",
              "        element.appendChild(docLink);\n",
              "      }\n",
              "    </script>\n",
              "  </div>\n",
              "\n",
              "\n",
              "<div id=\"df-67752f31-8125-4d3e-8774-4d59b5b736f8\">\n",
              "  <button class=\"colab-df-quickchart\" onclick=\"quickchart('df-67752f31-8125-4d3e-8774-4d59b5b736f8')\"\n",
              "            title=\"Suggest charts.\"\n",
              "            style=\"display:none;\">\n",
              "\n",
              "<svg xmlns=\"http://www.w3.org/2000/svg\" height=\"24px\"viewBox=\"0 0 24 24\"\n",
              "     width=\"24px\">\n",
              "    <g>\n",
              "        <path d=\"M19 3H5c-1.1 0-2 .9-2 2v14c0 1.1.9 2 2 2h14c1.1 0 2-.9 2-2V5c0-1.1-.9-2-2-2zM9 17H7v-7h2v7zm4 0h-2V7h2v10zm4 0h-2v-4h2v4z\"/>\n",
              "    </g>\n",
              "</svg>\n",
              "  </button>\n",
              "\n",
              "<style>\n",
              "  .colab-df-quickchart {\n",
              "      --bg-color: #E8F0FE;\n",
              "      --fill-color: #1967D2;\n",
              "      --hover-bg-color: #E2EBFA;\n",
              "      --hover-fill-color: #174EA6;\n",
              "      --disabled-fill-color: #AAA;\n",
              "      --disabled-bg-color: #DDD;\n",
              "  }\n",
              "\n",
              "  [theme=dark] .colab-df-quickchart {\n",
              "      --bg-color: #3B4455;\n",
              "      --fill-color: #D2E3FC;\n",
              "      --hover-bg-color: #434B5C;\n",
              "      --hover-fill-color: #FFFFFF;\n",
              "      --disabled-bg-color: #3B4455;\n",
              "      --disabled-fill-color: #666;\n",
              "  }\n",
              "\n",
              "  .colab-df-quickchart {\n",
              "    background-color: var(--bg-color);\n",
              "    border: none;\n",
              "    border-radius: 50%;\n",
              "    cursor: pointer;\n",
              "    display: none;\n",
              "    fill: var(--fill-color);\n",
              "    height: 32px;\n",
              "    padding: 0;\n",
              "    width: 32px;\n",
              "  }\n",
              "\n",
              "  .colab-df-quickchart:hover {\n",
              "    background-color: var(--hover-bg-color);\n",
              "    box-shadow: 0 1px 2px rgba(60, 64, 67, 0.3), 0 1px 3px 1px rgba(60, 64, 67, 0.15);\n",
              "    fill: var(--button-hover-fill-color);\n",
              "  }\n",
              "\n",
              "  .colab-df-quickchart-complete:disabled,\n",
              "  .colab-df-quickchart-complete:disabled:hover {\n",
              "    background-color: var(--disabled-bg-color);\n",
              "    fill: var(--disabled-fill-color);\n",
              "    box-shadow: none;\n",
              "  }\n",
              "\n",
              "  .colab-df-spinner {\n",
              "    border: 2px solid var(--fill-color);\n",
              "    border-color: transparent;\n",
              "    border-bottom-color: var(--fill-color);\n",
              "    animation:\n",
              "      spin 1s steps(1) infinite;\n",
              "  }\n",
              "\n",
              "  @keyframes spin {\n",
              "    0% {\n",
              "      border-color: transparent;\n",
              "      border-bottom-color: var(--fill-color);\n",
              "      border-left-color: var(--fill-color);\n",
              "    }\n",
              "    20% {\n",
              "      border-color: transparent;\n",
              "      border-left-color: var(--fill-color);\n",
              "      border-top-color: var(--fill-color);\n",
              "    }\n",
              "    30% {\n",
              "      border-color: transparent;\n",
              "      border-left-color: var(--fill-color);\n",
              "      border-top-color: var(--fill-color);\n",
              "      border-right-color: var(--fill-color);\n",
              "    }\n",
              "    40% {\n",
              "      border-color: transparent;\n",
              "      border-right-color: var(--fill-color);\n",
              "      border-top-color: var(--fill-color);\n",
              "    }\n",
              "    60% {\n",
              "      border-color: transparent;\n",
              "      border-right-color: var(--fill-color);\n",
              "    }\n",
              "    80% {\n",
              "      border-color: transparent;\n",
              "      border-right-color: var(--fill-color);\n",
              "      border-bottom-color: var(--fill-color);\n",
              "    }\n",
              "    90% {\n",
              "      border-color: transparent;\n",
              "      border-bottom-color: var(--fill-color);\n",
              "    }\n",
              "  }\n",
              "</style>\n",
              "\n",
              "  <script>\n",
              "    async function quickchart(key) {\n",
              "      const quickchartButtonEl =\n",
              "        document.querySelector('#' + key + ' button');\n",
              "      quickchartButtonEl.disabled = true;  // To prevent multiple clicks.\n",
              "      quickchartButtonEl.classList.add('colab-df-spinner');\n",
              "      try {\n",
              "        const charts = await google.colab.kernel.invokeFunction(\n",
              "            'suggestCharts', [key], {});\n",
              "      } catch (error) {\n",
              "        console.error('Error during call to suggestCharts:', error);\n",
              "      }\n",
              "      quickchartButtonEl.classList.remove('colab-df-spinner');\n",
              "      quickchartButtonEl.classList.add('colab-df-quickchart-complete');\n",
              "    }\n",
              "    (() => {\n",
              "      let quickchartButtonEl =\n",
              "        document.querySelector('#df-67752f31-8125-4d3e-8774-4d59b5b736f8 button');\n",
              "      quickchartButtonEl.style.display =\n",
              "        google.colab.kernel.accessAllowed ? 'block' : 'none';\n",
              "    })();\n",
              "  </script>\n",
              "</div>\n",
              "    </div>\n",
              "  </div>\n"
            ]
          },
          "metadata": {},
          "execution_count": 110
        }
      ]
    },
    {
      "cell_type": "code",
      "source": [],
      "metadata": {
        "id": "yKubUhXnRkB8"
      },
      "execution_count": null,
      "outputs": []
    },
    {
      "cell_type": "code",
      "source": [
        "#Este codigo es para poder descargar el archivo en csv, escogi 'latin1' por que utf-8 me cambiana el formato de la palabras\n",
        "df.to_csv('Ventasdepedidoslisto.csv', index=False, encoding='latin1')"
      ],
      "metadata": {
        "id": "9dB-4H56LfW9"
      },
      "execution_count": null,
      "outputs": []
    }
  ]
}